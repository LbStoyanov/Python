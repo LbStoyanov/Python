{
 "cells": [
  {
   "cell_type": "code",
   "execution_count": 1,
   "id": "ad42264c",
   "metadata": {},
   "outputs": [],
   "source": [
    "import numpy as np\n"
   ]
  },
  {
   "cell_type": "code",
   "execution_count": 7,
   "id": "18f03167",
   "metadata": {},
   "outputs": [
    {
     "name": "stdout",
     "output_type": "stream",
     "text": [
      "[0, 1, 2, 3, 4, 5]\n",
      "<class 'list'>\n",
      "[3, ['4', '5'], 5.5, [4, 5, 6]]\n",
      "<class 'list'>\n",
      "[4, 5, 6]\n"
     ]
    }
   ],
   "source": [
    "#lists\n",
    "aList = [0,1,2,3,4,5]\n",
    "print(aList)\n",
    "print(type(aList))\n",
    "listList = [3,['4','5'],5.5,[4,5,6]]\n",
    "print(listList)\n",
    "print(type(listList))\n",
    "print(listList[3])"
   ]
  },
  {
   "cell_type": "code",
   "execution_count": null,
   "id": "97dd6fb3",
   "metadata": {},
   "outputs": [
    {
     "name": "stdout",
     "output_type": "stream",
     "text": [
      "[0, 1, 2, 3, 4, 5, '0', '2', '3', '4', '5']\n",
      "[0, 1, 2, 3, 4, 5, 0, 1, 2, 3, 4, 5, 0, 1, 2, 3, 4, 5]\n"
     ]
    }
   ],
   "source": [
    "# matemathical operation on lists are possible\n",
    "aList = [0,1,2,3,4,5]\n",
    "bList = ['0','2','3','4','5']\n",
    "\n",
    "print(aList + bList)\n",
    "print(aList * 3) #it will repeate the entire aList 3 times \n"
   ]
  },
  {
   "cell_type": "code",
   "execution_count": 15,
   "id": "1efbee3b",
   "metadata": {},
   "outputs": [
    {
     "name": "stdout",
     "output_type": "stream",
     "text": [
      "<class 'numpy.ndarray'>\n",
      "[0 1 2 3 4 5]\n",
      "[ 0  3  6  9 12 15]\n",
      "[ 0  2  4  6  8 10]\n"
     ]
    }
   ],
   "source": [
    "#numpy arrays\n",
    "aList_np = np.array(aList)\n",
    "print(type(aList_np))\n",
    "print(aList_np)\n",
    "print(aList_np * 3)\n",
    "print(aList_np + aList_np) # here is the difference between lists and np arrays behavior. Every np.array item is affected by multiplied/devided/substracted/added"
   ]
  },
  {
   "cell_type": "code",
   "execution_count": 16,
   "id": "0eed261f",
   "metadata": {},
   "outputs": [
    {
     "name": "stdout",
     "output_type": "stream",
     "text": [
      "0 m\n",
      "1 i\n",
      "2 k\n",
      "3 e\n"
     ]
    }
   ],
   "source": [
    "#enumerates returns 2 elements in list, index and item\n",
    "\n",
    "s = 'mike'\n",
    "for i,item in enumerate(s):\n",
    "    print(i, item)"
   ]
  }
 ],
 "metadata": {
  "kernelspec": {
   "display_name": "Python 3",
   "language": "python",
   "name": "python3"
  },
  "language_info": {
   "codemirror_mode": {
    "name": "ipython",
    "version": 3
   },
   "file_extension": ".py",
   "mimetype": "text/x-python",
   "name": "python",
   "nbconvert_exporter": "python",
   "pygments_lexer": "ipython3",
   "version": "3.13.3"
  }
 },
 "nbformat": 4,
 "nbformat_minor": 5
}
