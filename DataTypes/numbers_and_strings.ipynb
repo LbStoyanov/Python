{
 "cells": [
  {
   "cell_type": "code",
   "execution_count": 1,
   "id": "953c7cf0",
   "metadata": {},
   "outputs": [
    {
     "name": "stdout",
     "output_type": "stream",
     "text": [
      "7 7.0\n"
     ]
    }
   ],
   "source": [
    "# data types\n",
    "\n",
    "\n",
    "# ints vs. floats\n",
    "\n",
    "c = 7\n",
    "d = 7.0\n",
    "\n",
    "print(c, d)"
   ]
  },
  {
   "cell_type": "code",
   "execution_count": 2,
   "id": "577e1629",
   "metadata": {},
   "outputs": [
    {
     "name": "stdout",
     "output_type": "stream",
     "text": [
      "<class 'int'>\n",
      "<class 'float'>\n"
     ]
    }
   ],
   "source": [
    "print(type(c))\n",
    "print(type(d))\n"
   ]
  },
  {
   "cell_type": "code",
   "execution_count": 3,
   "id": "c3ef4061",
   "metadata": {},
   "outputs": [
    {
     "name": "stdout",
     "output_type": "stream",
     "text": [
      "0\n",
      "1\n",
      "2\n",
      "3\n",
      "4\n",
      "5\n",
      "6\n"
     ]
    }
   ],
   "source": [
    "for i in range(0,c):\n",
    "    print(i)\n",
    "    "
   ]
  },
  {
   "cell_type": "code",
   "execution_count": 4,
   "id": "cc13169c",
   "metadata": {},
   "outputs": [],
   "source": [
    "#for i in range(0,d):\n",
    "#   print(i)\n",
    "\n",
    "#This will throw an error because d is floating datatype"
   ]
  },
  {
   "cell_type": "code",
   "execution_count": 5,
   "id": "4cf5cd0f",
   "metadata": {},
   "outputs": [
    {
     "name": "stdout",
     "output_type": "stream",
     "text": [
      "14\n",
      "14.0\n",
      "49.0\n",
      "MikeMikeMike\n"
     ]
    }
   ],
   "source": [
    "print(c + 7) #output int\n",
    "print(c + d) #output float\n",
    "print(c * d)   #output floating, because one value is floating\n",
    "print('Mike' * 3) #the string will be multiplied by 3"
   ]
  },
  {
   "cell_type": "code",
   "execution_count": 6,
   "id": "76f23102",
   "metadata": {},
   "outputs": [
    {
     "name": "stdout",
     "output_type": "stream",
     "text": [
      "No variables match your requested type.\n"
     ]
    }
   ],
   "source": [
    "%whos # list all variables and their types"
   ]
  },
  {
   "cell_type": "code",
   "execution_count": 7,
   "id": "250904b0",
   "metadata": {},
   "outputs": [
    {
     "name": "stdout",
     "output_type": "stream",
     "text": [
      "<class 'int'>\n",
      "<class 'float'>\n",
      "<class 'str'>\n",
      "<class 'str'>\n",
      "5\n"
     ]
    }
   ],
   "source": [
    "# convert across datatypes\n",
    "s1 = '4'\n",
    "s2 = '4.7'\n",
    "n1 = 5\n",
    "n2 = 5.8\n",
    "\n",
    "#convert the string to int\n",
    "\n",
    "s1str = int(s1)\n",
    "print(type(s1str))\n",
    "\n",
    "#convert string to float\n",
    "\n",
    "s2str = float(s2)\n",
    "print(type(s2str))\n",
    "\n",
    "\n",
    "#convert numbers into strings\n",
    "\n",
    "n1str = str(n1)\n",
    "print(type(n1str))\n",
    "\n",
    "n2str = str(n2)\n",
    "print(type(n2str))\n",
    "\n",
    "\n",
    "#converting float to int .8 is lost because is truncated DATA LOST!\n",
    "\n",
    "print(int(n2))"
   ]
  }
 ],
 "metadata": {
  "kernelspec": {
   "display_name": "Python 3",
   "language": "python",
   "name": "python3"
  },
  "language_info": {
   "codemirror_mode": {
    "name": "ipython",
    "version": 3
   },
   "file_extension": ".py",
   "mimetype": "text/x-python",
   "name": "python",
   "nbconvert_exporter": "python",
   "pygments_lexer": "ipython3",
   "version": "3.13.3"
  }
 },
 "nbformat": 4,
 "nbformat_minor": 5
}
